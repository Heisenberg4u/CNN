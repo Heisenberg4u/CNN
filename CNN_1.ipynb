{
  "nbformat": 4,
  "nbformat_minor": 0,
  "metadata": {
    "kernelspec": {
      "display_name": "Python 3",
      "language": "python",
      "name": "python3"
    },
    "language_info": {
      "codemirror_mode": {
        "name": "ipython",
        "version": 3
      },
      "file_extension": ".py",
      "mimetype": "text/x-python",
      "name": "python",
      "nbconvert_exporter": "python",
      "pygments_lexer": "ipython3",
      "version": "3.8.5"
    },
    "colab": {
      "name": "CNN 1.ipynb",
      "provenance": [],
      "collapsed_sections": []
    },
    "accelerator": "GPU"
  },
  "cells": [
    {
      "cell_type": "code",
      "metadata": {
        "id": "t4zVkOrQgdwy"
      },
      "source": [
        "import keras\n",
        "from keras.datasets import cifar10\n",
        "from keras.preprocessing.image import ImageDataGenerator\n",
        "from keras.models import Sequential, load_model\n",
        "from keras.layers import Dense, Dropout, Activation, Flatten, Conv2D, MaxPooling2D\n",
        "from keras.callbacks import ModelCheckpoint\n",
        "import os\n",
        "from sklearn.model_selection import train_test_split\n",
        "import matplotlib.pyplot as plt\n",
        "import numpy as np\n",
        "\n",
        "import warnings   # To avoid warning messages in the code run\n",
        "warnings.filterwarnings(\"ignore\")"
      ],
      "execution_count": 1,
      "outputs": []
    },
    {
      "cell_type": "code",
      "metadata": {
        "colab": {
          "base_uri": "https://localhost:8080/"
        },
        "id": "ao3Dk32kgdw_",
        "outputId": "e1d56d57-551f-4f9e-a9e0-b02032930b8b"
      },
      "source": [
        "# The data, split between train and test sets:\n",
        "(x_train_, y_train_), (x_test_, y_test_) = cifar10.load_data()\n",
        "# delete C:/Users/Your_UserName/.keras/datasets/\n",
        "print('x_train_ shape:', x_train_.shape)\n",
        "print('x_test_ shape:', x_test_.shape)\n",
        "print('y_train_ shape:', y_train_.shape)\n",
        "print('y_test_ shape:', y_test_.shape)\n",
        "print('y_train_:', y_train_)\n",
        "print('y_test_:', y_test_)\n",
        "# airplanes, cars, birds, cats, deer, dogs, frogs, horses, ships, & trucks"
      ],
      "execution_count": 2,
      "outputs": [
        {
          "output_type": "stream",
          "text": [
            "Downloading data from https://www.cs.toronto.edu/~kriz/cifar-10-python.tar.gz\n",
            "170500096/170498071 [==============================] - 2s 0us/step\n",
            "x_train_ shape: (50000, 32, 32, 3)\n",
            "x_test_ shape: (10000, 32, 32, 3)\n",
            "y_train_ shape: (50000, 1)\n",
            "y_test_ shape: (10000, 1)\n",
            "y_train_: [[6]\n",
            " [9]\n",
            " [9]\n",
            " ...\n",
            " [9]\n",
            " [1]\n",
            " [1]]\n",
            "y_test_: [[3]\n",
            " [8]\n",
            " [8]\n",
            " ...\n",
            " [5]\n",
            " [1]\n",
            " [7]]\n"
          ],
          "name": "stdout"
        }
      ]
    },
    {
      "cell_type": "code",
      "metadata": {
        "colab": {
          "base_uri": "https://localhost:8080/"
        },
        "id": "6sjLB-xDgdxC",
        "outputId": "c1b142ef-e739-41ae-b63e-7b33e8471dee"
      },
      "source": [
        "x_train, __x, y_train, __y = train_test_split(x_train_, y_train_, train_size=7500, stratify=y_train_, random_state=0)\n",
        "print('x_train shape:', x_train.shape)\n",
        "print('y_train shape:', y_train.shape)\n",
        "print('y_train:', y_train)"
      ],
      "execution_count": 3,
      "outputs": [
        {
          "output_type": "stream",
          "text": [
            "x_train shape: (7500, 32, 32, 3)\n",
            "y_train shape: (7500, 1)\n",
            "y_train: [[6]\n",
            " [5]\n",
            " [6]\n",
            " ...\n",
            " [5]\n",
            " [4]\n",
            " [6]]\n"
          ],
          "name": "stdout"
        }
      ]
    },
    {
      "cell_type": "code",
      "metadata": {
        "colab": {
          "base_uri": "https://localhost:8080/"
        },
        "id": "VSlcEHbVgdxD",
        "outputId": "bf003755-4557-46f7-e862-8fad3e072515"
      },
      "source": [
        "x_val, __x, y_val, __y = train_test_split(__x, __y, train_size=1250, stratify=__y, random_state=0)\n",
        "print('x_val shape:', x_val.shape)\n",
        "print('y_val shape:', y_val.shape)"
      ],
      "execution_count": 4,
      "outputs": [
        {
          "output_type": "stream",
          "text": [
            "x_val shape: (1250, 32, 32, 3)\n",
            "y_val shape: (1250, 1)\n"
          ],
          "name": "stdout"
        }
      ]
    },
    {
      "cell_type": "code",
      "metadata": {
        "colab": {
          "base_uri": "https://localhost:8080/"
        },
        "id": "hYIzoNs4gdxE",
        "outputId": "2f2390eb-4471-4bf6-9e5b-239238735d1a"
      },
      "source": [
        "x_test, __x, y_test, __y = train_test_split(x_test_, y_test_, train_size=1250, stratify=y_test_, random_state=0)\n",
        "print('x_test shape:', x_test.shape)\n",
        "print('y_test shape:', y_test.shape)"
      ],
      "execution_count": 5,
      "outputs": [
        {
          "output_type": "stream",
          "text": [
            "x_test shape: (1250, 32, 32, 3)\n",
            "y_test shape: (1250, 1)\n"
          ],
          "name": "stdout"
        }
      ]
    },
    {
      "cell_type": "code",
      "metadata": {
        "colab": {
          "base_uri": "https://localhost:8080/",
          "height": 283
        },
        "id": "GNW8pvtCgdxF",
        "outputId": "b6e2c51c-3e3b-4f5e-8b87-c93d67fb87a9"
      },
      "source": [
        "plt.imshow(x_train[5])\n",
        "plt.show()\n",
        "print('Label:', y_train[5][0])"
      ],
      "execution_count": 6,
      "outputs": [
        {
          "output_type": "display_data",
          "data": {
            "image/png": "[encoded data removed]",
            "text/plain": [
              "<Figure size 432x288 with 1 Axes>"
            ]
          },
          "metadata": {
            "tags": [],
            "needs_background": "light"
          }
        },
        {
          "output_type": "stream",
          "text": [
            "Label: 5\n"
          ],
          "name": "stdout"
        }
      ]
    },
    {
      "cell_type": "code",
      "metadata": {
        "colab": {
          "base_uri": "https://localhost:8080/"
        },
        "id": "rGzuzF8mgdxF",
        "outputId": "60ad1ece-faf1-4683-881a-c4cb1c794236"
      },
      "source": [
        "num_classes = 10\n",
        "\n",
        "# Convert class vectors to binary class matrices.\n",
        "y_train = keras.utils.to_categorical(y_train, num_classes)\n",
        "y_val = keras.utils.to_categorical(y_val, num_classes)\n",
        "y_test = keras.utils.to_categorical(y_test, num_classes)\n",
        "\n",
        "print('y_train shape:', y_train.shape)\n",
        "print('y_val shape:', y_val.shape)\n",
        "print('y_test shape:', y_test.shape)\n",
        "\n",
        "print('y_train:', y_train)\n",
        "print('y_val:', y_val)\n",
        "print('y_test:', y_test)"
      ],
      "execution_count": 7,
      "outputs": [
        {
          "output_type": "stream",
          "text": [
            "y_train shape: (7500, 10)\n",
            "y_val shape: (1250, 10)\n",
            "y_test shape: (1250, 10)\n",
            "y_train: [[0. 0. 0. ... 0. 0. 0.]\n",
            " [0. 0. 0. ... 0. 0. 0.]\n",
            " [0. 0. 0. ... 0. 0. 0.]\n",
            " ...\n",
            " [0. 0. 0. ... 0. 0. 0.]\n",
            " [0. 0. 0. ... 0. 0. 0.]\n",
            " [0. 0. 0. ... 0. 0. 0.]]\n",
            "y_val: [[0. 0. 0. ... 0. 0. 0.]\n",
            " [0. 0. 0. ... 0. 1. 0.]\n",
            " [1. 0. 0. ... 0. 0. 0.]\n",
            " ...\n",
            " [1. 0. 0. ... 0. 0. 0.]\n",
            " [0. 0. 0. ... 0. 1. 0.]\n",
            " [0. 0. 0. ... 0. 0. 0.]]\n",
            "y_test: [[0. 0. 0. ... 0. 0. 0.]\n",
            " [0. 1. 0. ... 0. 0. 0.]\n",
            " [0. 0. 0. ... 0. 0. 1.]\n",
            " ...\n",
            " [0. 0. 0. ... 0. 0. 0.]\n",
            " [0. 0. 0. ... 0. 0. 1.]\n",
            " [0. 0. 0. ... 1. 0. 0.]]\n"
          ],
          "name": "stdout"
        }
      ]
    },
    {
      "cell_type": "code",
      "metadata": {
        "colab": {
          "base_uri": "https://localhost:8080/"
        },
        "id": "W_f_bg4RgdxG",
        "outputId": "1192f02b-de1c-472d-d3b5-2de0a413fdf0"
      },
      "source": [
        "model = Sequential()\n",
        "model.add(Conv2D(8, (3, 3), input_shape=(32, 32, 3))) # 30 30 8\n",
        "model.add(Activation('relu'))\n",
        "model.add(MaxPooling2D(pool_size=(2, 2))) # 15 15 4\n",
        "# model.add(Dropout(0.25))\n",
        "\n",
        "model.add(Conv2D(16, (4, 4))) # 12 12 8\n",
        "model.add(Activation('relu'))\n",
        "model.add(MaxPooling2D(pool_size=(2, 2))) # 6 6 8\n",
        "# model.add(Dropout(0.5))\n",
        "\n",
        "model.add(Conv2D(32, (5, 5))) # 2 2 16\n",
        "model.add(Activation('relu'))\n",
        "model.add(MaxPooling2D(pool_size=(2, 2))) # 1 1 16\n",
        "# model.add(Dropout(0.5))\n",
        "\n",
        "model.add(Flatten())\n",
        "\n",
        "model.add(Dense(32))\n",
        "model.add(Activation('relu'))\n",
        "# model.add(Dropout(0.5))\n",
        "\n",
        "model.add(Dense(num_classes, activation='softmax'))\n",
        "\n",
        "model.summary()"
      ],
      "execution_count": 8,
      "outputs": [
        {
          "output_type": "stream",
          "text": [
            "Model: \"sequential\"\n",
            "_________________________________________________________________\n",
            "Layer (type)                 Output Shape              Param #   \n",
            "=================================================================\n",
            "conv2d (Conv2D)              (None, 30, 30, 8)         224       \n",
            "_________________________________________________________________\n",
            "activation (Activation)      (None, 30, 30, 8)         0         \n",
            "_________________________________________________________________\n",
            "max_pooling2d (MaxPooling2D) (None, 15, 15, 8)         0         \n",
            "_________________________________________________________________\n",
            "conv2d_1 (Conv2D)            (None, 12, 12, 16)        2064      \n",
            "_________________________________________________________________\n",
            "activation_1 (Activation)    (None, 12, 12, 16)        0         \n",
            "_________________________________________________________________\n",
            "max_pooling2d_1 (MaxPooling2 (None, 6, 6, 16)          0         \n",
            "_________________________________________________________________\n",
            "conv2d_2 (Conv2D)            (None, 2, 2, 32)          12832     \n",
            "_________________________________________________________________\n",
            "activation_2 (Activation)    (None, 2, 2, 32)          0         \n",
            "_________________________________________________________________\n",
            "max_pooling2d_2 (MaxPooling2 (None, 1, 1, 32)          0         \n",
            "_________________________________________________________________\n",
            "flatten (Flatten)            (None, 32)                0         \n",
            "_________________________________________________________________\n",
            "dense (Dense)                (None, 32)                1056      \n",
            "_________________________________________________________________\n",
            "activation_3 (Activation)    (None, 32)                0         \n",
            "_________________________________________________________________\n",
            "dense_1 (Dense)              (None, 10)                330       \n",
            "=================================================================\n",
            "Total params: 16,506\n",
            "Trainable params: 16,506\n",
            "Non-trainable params: 0\n",
            "_________________________________________________________________\n"
          ],
          "name": "stdout"
        }
      ]
    },
    {
      "cell_type": "code",
      "metadata": {
        "colab": {
          "base_uri": "https://localhost:8080/"
        },
        "id": "p5RkMlFIgdxH",
        "outputId": "6159108b-569d-4326-9abc-01ac9b1ea463"
      },
      "source": [
        "# initiate Adam optimizer\n",
        "opt = keras.optimizers.Adam(lr=0.005)\n",
        "\n",
        "# Let's train the model using Adam\n",
        "model.compile(loss='categorical_crossentropy',\n",
        "              optimizer=opt,\n",
        "              metrics=['accuracy'])\n",
        "\n",
        "x_train = x_train.astype('float32')\n",
        "x_val = x_val.astype('float32')\n",
        "x_test = x_test.astype('float32')\n",
        "x_train /= 255.0\n",
        "x_val /= 255.0\n",
        "x_test /= 255.0\n",
        "\n",
        "if not os.path.exists('saved_cnn_models'):\n",
        "    os.mkdir('saved_cnn_models')\n",
        "\n",
        "num_epochs = 16\n",
        "filepath = 'saved_cnn_models/model-{epoch:05d}.h5'\n",
        "checkpoint = ModelCheckpoint(filepath, monitor='val_loss', verbose=1, save_best_only=False, save_weights_only=False, mode='auto', period=1)\n",
        "callbacks_list = [checkpoint]"
      ],
      "execution_count": 10,
      "outputs": [
        {
          "output_type": "stream",
          "text": [
            "WARNING:tensorflow:`period` argument is deprecated. Please use `save_freq` to specify the frequency in number of batches seen.\n"
          ],
          "name": "stdout"
        }
      ]
    },
    {
      "cell_type": "code",
      "metadata": {
        "colab": {
          "base_uri": "https://localhost:8080/"
        },
        "id": "91k-4c8cgdxI",
        "outputId": "a0c82ffa-590d-4451-b572-d585a925c221"
      },
      "source": [
        "history = model.fit(x=x_train, y=y_train, batch_size=250, epochs=num_epochs, verbose=1, callbacks=callbacks_list,\n",
        "              validation_data=(x_val, y_val))"
      ],
      "execution_count": 11,
      "outputs": [
        {
          "output_type": "stream",
          "text": [
            "Epoch 1/16\n",
            "30/30 [==============================] - 33s 15ms/step - loss: 2.2564 - accuracy: 0.1436 - val_loss: 2.0733 - val_accuracy: 0.1976\n",
            "\n",
            "Epoch 00001: saving model to saved_cnn_models/model-00001.h5\n",
            "Epoch 2/16\n",
            "30/30 [==============================] - 0s 8ms/step - loss: 2.0374 - accuracy: 0.2269 - val_loss: 1.8941 - val_accuracy: 0.2824\n",
            "\n",
            "Epoch 00002: saving model to saved_cnn_models/model-00002.h5\n",
            "Epoch 3/16\n",
            "30/30 [==============================] - 0s 8ms/step - loss: 1.8304 - accuracy: 0.3294 - val_loss: 1.7507 - val_accuracy: 0.3168\n",
            "\n",
            "Epoch 00003: saving model to saved_cnn_models/model-00003.h5\n",
            "Epoch 4/16\n",
            "30/30 [==============================] - 0s 8ms/step - loss: 1.6382 - accuracy: 0.3976 - val_loss: 1.5966 - val_accuracy: 0.4032\n",
            "\n",
            "Epoch 00004: saving model to saved_cnn_models/model-00004.h5\n",
            "Epoch 5/16\n",
            "30/30 [==============================] - 0s 7ms/step - loss: 1.5402 - accuracy: 0.4358 - val_loss: 1.5284 - val_accuracy: 0.4384\n",
            "\n",
            "Epoch 00005: saving model to saved_cnn_models/model-00005.h5\n",
            "Epoch 6/16\n",
            "30/30 [==============================] - 0s 7ms/step - loss: 1.4828 - accuracy: 0.4760 - val_loss: 1.5051 - val_accuracy: 0.4432\n",
            "\n",
            "Epoch 00006: saving model to saved_cnn_models/model-00006.h5\n",
            "Epoch 7/16\n",
            "30/30 [==============================] - 0s 7ms/step - loss: 1.4428 - accuracy: 0.4785 - val_loss: 1.4538 - val_accuracy: 0.4584\n",
            "\n",
            "Epoch 00007: saving model to saved_cnn_models/model-00007.h5\n",
            "Epoch 8/16\n",
            "30/30 [==============================] - 0s 7ms/step - loss: 1.3563 - accuracy: 0.5124 - val_loss: 1.4414 - val_accuracy: 0.4568\n",
            "\n",
            "Epoch 00008: saving model to saved_cnn_models/model-00008.h5\n",
            "Epoch 9/16\n",
            "30/30 [==============================] - 0s 7ms/step - loss: 1.3320 - accuracy: 0.5197 - val_loss: 1.4646 - val_accuracy: 0.4560\n",
            "\n",
            "Epoch 00009: saving model to saved_cnn_models/model-00009.h5\n",
            "Epoch 10/16\n",
            "30/30 [==============================] - 0s 7ms/step - loss: 1.3047 - accuracy: 0.5312 - val_loss: 1.4435 - val_accuracy: 0.4664\n",
            "\n",
            "Epoch 00010: saving model to saved_cnn_models/model-00010.h5\n",
            "Epoch 11/16\n",
            "30/30 [==============================] - 0s 8ms/step - loss: 1.2518 - accuracy: 0.5398 - val_loss: 1.4693 - val_accuracy: 0.4560\n",
            "\n",
            "Epoch 00011: saving model to saved_cnn_models/model-00011.h5\n",
            "Epoch 12/16\n",
            "30/30 [==============================] - 0s 7ms/step - loss: 1.2470 - accuracy: 0.5502 - val_loss: 1.3751 - val_accuracy: 0.5064\n",
            "\n",
            "Epoch 00012: saving model to saved_cnn_models/model-00012.h5\n",
            "Epoch 13/16\n",
            "30/30 [==============================] - 0s 7ms/step - loss: 1.1983 - accuracy: 0.5683 - val_loss: 1.3439 - val_accuracy: 0.5168\n",
            "\n",
            "Epoch 00013: saving model to saved_cnn_models/model-00013.h5\n",
            "Epoch 14/16\n",
            "30/30 [==============================] - 0s 8ms/step - loss: 1.1363 - accuracy: 0.5930 - val_loss: 1.3602 - val_accuracy: 0.5208\n",
            "\n",
            "Epoch 00014: saving model to saved_cnn_models/model-00014.h5\n",
            "Epoch 15/16\n",
            "30/30 [==============================] - 0s 7ms/step - loss: 1.1381 - accuracy: 0.5851 - val_loss: 1.3603 - val_accuracy: 0.5096\n",
            "\n",
            "Epoch 00015: saving model to saved_cnn_models/model-00015.h5\n",
            "Epoch 16/16\n",
            "30/30 [==============================] - 0s 7ms/step - loss: 1.1096 - accuracy: 0.6054 - val_loss: 1.3472 - val_accuracy: 0.5216\n",
            "\n",
            "Epoch 00016: saving model to saved_cnn_models/model-00016.h5\n"
          ],
          "name": "stdout"
        }
      ]
    },
    {
      "cell_type": "code",
      "metadata": {
        "colab": {
          "base_uri": "https://localhost:8080/"
        },
        "id": "LN2mFYq7gdxJ",
        "outputId": "4c60ba01-13a6-4fd2-9788-536564706680"
      },
      "source": [
        "history.history"
      ],
      "execution_count": 12,
      "outputs": [
        {
          "output_type": "execute_result",
          "data": {
            "text/plain": [
              "{'accuracy': [0.17679999768733978,\n",
              "  0.2540000081062317,\n",
              "  0.3440000116825104,\n",
              "  0.39800000190734863,\n",
              "  0.4397333264350891,\n",
              "  0.47013333439826965,\n",
              "  0.47893333435058594,\n",
              "  0.5073333382606506,\n",
              "  0.5175999999046326,\n",
              "  0.5357333421707153,\n",
              "  0.5392000079154968,\n",
              "  0.553600013256073,\n",
              "  0.5705333352088928,\n",
              "  0.5818666815757751,\n",
              "  0.5889333486557007,\n",
              "  0.6006666421890259],\n",
              " 'loss': [2.194324016571045,\n",
              "  1.9760606288909912,\n",
              "  1.7808157205581665,\n",
              "  1.6328235864639282,\n",
              "  1.531087875366211,\n",
              "  1.4786219596862793,\n",
              "  1.429202914237976,\n",
              "  1.3554880619049072,\n",
              "  1.348435640335083,\n",
              "  1.2952266931533813,\n",
              "  1.2572031021118164,\n",
              "  1.2303893566131592,\n",
              "  1.196346640586853,\n",
              "  1.166350245475769,\n",
              "  1.1430273056030273,\n",
              "  1.1196672916412354],\n",
              " 'val_accuracy': [0.19760000705718994,\n",
              "  0.2824000120162964,\n",
              "  0.31679999828338623,\n",
              "  0.4032000005245209,\n",
              "  0.438400000333786,\n",
              "  0.4431999921798706,\n",
              "  0.45840001106262207,\n",
              "  0.45680001378059387,\n",
              "  0.4560000002384186,\n",
              "  0.46639999747276306,\n",
              "  0.4560000002384186,\n",
              "  0.5063999891281128,\n",
              "  0.5167999863624573,\n",
              "  0.520799994468689,\n",
              "  0.5095999836921692,\n",
              "  0.5216000080108643],\n",
              " 'val_loss': [2.073286771774292,\n",
              "  1.894057035446167,\n",
              "  1.7507367134094238,\n",
              "  1.596581220626831,\n",
              "  1.5283933877944946,\n",
              "  1.5050532817840576,\n",
              "  1.4537969827651978,\n",
              "  1.4414194822311401,\n",
              "  1.4646114110946655,\n",
              "  1.4435243606567383,\n",
              "  1.4693228006362915,\n",
              "  1.3750723600387573,\n",
              "  1.3438664674758911,\n",
              "  1.3602418899536133,\n",
              "  1.3603453636169434,\n",
              "  1.3471828699111938]}"
            ]
          },
          "metadata": {
            "tags": []
          },
          "execution_count": 12
        }
      ]
    },
    {
      "cell_type": "code",
      "metadata": {
        "colab": {
          "base_uri": "https://localhost:8080/",
          "height": 265
        },
        "id": "z6Matn2ygdxJ",
        "outputId": "677e0082-357a-44b3-f77d-c5229cd92216"
      },
      "source": [
        "plt.plot(range(num_epochs-1), history.history['loss'][1:], label='train_loss')\n",
        "plt.plot(range(num_epochs-1), history.history['val_loss'][:-1], label='val_loss')\n",
        "plt.legend()\n",
        "plt.grid()\n",
        "plt.show()"
      ],
      "execution_count": 13,
      "outputs": [
        {
          "output_type": "display_data",
          "data": {
            "image/png": "[encoded data removed]",
            "text/plain": [
              "<Figure size 432x288 with 1 Axes>"
            ]
          },
          "metadata": {
            "tags": [],
            "needs_background": "light"
          }
        }
      ]
    },
    {
      "cell_type": "code",
      "metadata": {
        "colab": {
          "base_uri": "https://localhost:8080/",
          "height": 265
        },
        "id": "zUbPRbTBgdxK",
        "outputId": "97e41d13-5cbe-4724-98cb-d06606c9454f"
      },
      "source": [
        "plt.plot(range(num_epochs-1), history.history['accuracy'][1:], label='train_acc')\n",
        "plt.plot(range(num_epochs-1), history.history['val_accuracy'][:-1], label='val_acc')\n",
        "plt.legend()\n",
        "plt.grid()\n",
        "plt.show()"
      ],
      "execution_count": 14,
      "outputs": [
        {
          "output_type": "display_data",
          "data": {
            "image/png": "[encoded data removed]",
            "text/plain": [
              "<Figure size 432x288 with 1 Axes>"
            ]
          },
          "metadata": {
            "tags": [],
            "needs_background": "light"
          }
        }
      ]
    },
    {
      "cell_type": "code",
      "metadata": {
        "colab": {
          "base_uri": "https://localhost:8080/"
        },
        "id": "-i09hA60gdxK",
        "outputId": "54ddda22-8ff0-4ae6-9c19-ccb5326e3052"
      },
      "source": [
        "print('Minimum Validation Loss:', np.min(history.history['val_loss']))\n",
        "print('Best epoch corresponding to Minimum Validation Loss:', np.argmin(history.history['val_loss'])+1)"
      ],
      "execution_count": 15,
      "outputs": [
        {
          "output_type": "stream",
          "text": [
            "Minimum Validation Loss: 1.3438664674758911\n",
            "Best epoch corresponding to Minimum Validation Loss: 13\n"
          ],
          "name": "stdout"
        }
      ]
    },
    {
      "cell_type": "code",
      "metadata": {
        "id": "pcKXb3A8gdxL"
      },
      "source": [
        "model_best = load_model('saved_cnn_models/model-00010.h5')"
      ],
      "execution_count": 16,
      "outputs": []
    },
    {
      "cell_type": "code",
      "metadata": {
        "colab": {
          "base_uri": "https://localhost:8080/"
        },
        "id": "1mVCNFzPgdxL",
        "outputId": "b7efb69a-0169-443e-eaf3-2db7146b484f"
      },
      "source": [
        "scores = model_best.evaluate(x_test, y_test, verbose=1)"
      ],
      "execution_count": 17,
      "outputs": [
        {
          "output_type": "stream",
          "text": [
            "40/40 [==============================] - 0s 4ms/step - loss: 1.4470 - accuracy: 0.4824\n"
          ],
          "name": "stdout"
        }
      ]
    },
    {
      "cell_type": "code",
      "metadata": {
        "colab": {
          "base_uri": "https://localhost:8080/"
        },
        "id": "gZqVxNqegdxL",
        "outputId": "071c21e0-f001-4fab-dab2-391b678c81d5"
      },
      "source": [
        "scores"
      ],
      "execution_count": 18,
      "outputs": [
        {
          "output_type": "execute_result",
          "data": {
            "text/plain": [
              "[1.4470486640930176, 0.48240000009536743]"
            ]
          },
          "metadata": {
            "tags": []
          },
          "execution_count": 18
        }
      ]
    },
    {
      "cell_type": "code",
      "metadata": {
        "colab": {
          "base_uri": "https://localhost:8080/"
        },
        "id": "GO0LwzPkgdxM",
        "outputId": "36aaa6ae-bedd-4021-e53e-f9f39cfe5ce3"
      },
      "source": [
        "print('Test loss:', scores[0])\n",
        "print('Test accuracy:', scores[1])"
      ],
      "execution_count": 19,
      "outputs": [
        {
          "output_type": "stream",
          "text": [
            "Test loss: 1.4470486640930176\n",
            "Test accuracy: 0.48240000009536743\n"
          ],
          "name": "stdout"
        }
      ]
    }
  ]
}