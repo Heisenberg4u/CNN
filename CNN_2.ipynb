{
  "nbformat": 4,
  "nbformat_minor": 0,
  "metadata": {
    "kernelspec": {
      "display_name": "Python 3",
      "language": "python",
      "name": "python3"
    },
    "language_info": {
      "codemirror_mode": {
        "name": "ipython",
        "version": 3
      },
      "file_extension": ".py",
      "mimetype": "text/x-python",
      "name": "python",
      "nbconvert_exporter": "python",
      "pygments_lexer": "ipython3",
      "version": "3.8.5"
    },
    "colab": {
      "name": "CNN_2.ipynb",
      "provenance": [],
      "collapsed_sections": []
    },
    "accelerator": "GPU"
  },
  "cells": [
    {
      "cell_type": "code",
      "metadata": {
        "id": "t4zVkOrQgdwy"
      },
      "source": [
        "import keras\n",
        "from keras.datasets import cifar10\n",
        "from keras.preprocessing.image import ImageDataGenerator\n",
        "from keras.models import Sequential, load_model\n",
        "from keras.layers import Dense, Dropout, Activation, Flatten, Conv2D, MaxPooling2D\n",
        "from keras.callbacks import ModelCheckpoint\n",
        "import os\n",
        "from sklearn.model_selection import train_test_split\n",
        "import matplotlib.pyplot as plt\n",
        "import numpy as np\n",
        "\n",
        "import warnings   # To avoid warning messages in the code run\n",
        "warnings.filterwarnings(\"ignore\")"
      ],
      "execution_count": 1,
      "outputs": []
    },
    {
      "cell_type": "code",
      "metadata": {
        "colab": {
          "base_uri": "https://localhost:8080/"
        },
        "id": "ao3Dk32kgdw_",
        "outputId": "961f1128-90f3-476a-a688-6d8e1030468e"
      },
      "source": [
        "# The data, split between train and test sets:\n",
        "(x_train_, y_train_), (x_test_, y_test_) = cifar10.load_data()\n",
        "# delete C:/Users/Your_UserName/.keras/datasets/\n",
        "print('x_train_ shape:', x_train_.shape)\n",
        "print('x_test_ shape:', x_test_.shape)\n",
        "print('y_train_ shape:', y_train_.shape)\n",
        "print('y_test_ shape:', y_test_.shape)\n",
        "print('y_train_:', y_train_)\n",
        "print('y_test_:', y_test_)\n",
        "# airplanes, cars, birds, cats, deer, dogs, frogs, horses, ships, & trucks"
      ],
      "execution_count": 2,
      "outputs": [
        {
          "output_type": "stream",
          "text": [
            "x_train_ shape: (50000, 32, 32, 3)\n",
            "x_test_ shape: (10000, 32, 32, 3)\n",
            "y_train_ shape: (50000, 1)\n",
            "y_test_ shape: (10000, 1)\n",
            "y_train_: [[6]\n",
            " [9]\n",
            " [9]\n",
            " ...\n",
            " [9]\n",
            " [1]\n",
            " [1]]\n",
            "y_test_: [[3]\n",
            " [8]\n",
            " [8]\n",
            " ...\n",
            " [5]\n",
            " [1]\n",
            " [7]]\n"
          ],
          "name": "stdout"
        }
      ]
    },
    {
      "cell_type": "code",
      "metadata": {
        "colab": {
          "base_uri": "https://localhost:8080/"
        },
        "id": "6sjLB-xDgdxC",
        "outputId": "d397b3a2-b13f-4460-9b8b-323ae2259dc4"
      },
      "source": [
        "x_train, __x, y_train, __y = train_test_split(x_train_, y_train_, train_size=7500, stratify=y_train_, random_state=0)\n",
        "print('x_train shape:', x_train.shape)\n",
        "print('y_train shape:', y_train.shape)\n",
        "print('y_train:', y_train)"
      ],
      "execution_count": 3,
      "outputs": [
        {
          "output_type": "stream",
          "text": [
            "x_train shape: (7500, 32, 32, 3)\n",
            "y_train shape: (7500, 1)\n",
            "y_train: [[6]\n",
            " [5]\n",
            " [6]\n",
            " ...\n",
            " [5]\n",
            " [4]\n",
            " [6]]\n"
          ],
          "name": "stdout"
        }
      ]
    },
    {
      "cell_type": "code",
      "metadata": {
        "colab": {
          "base_uri": "https://localhost:8080/"
        },
        "id": "VSlcEHbVgdxD",
        "outputId": "fdb5fd37-e04d-444f-8942-fb3744d47ac3"
      },
      "source": [
        "x_val, __x, y_val, __y = train_test_split(__x, __y, train_size=1250, stratify=__y, random_state=0)\n",
        "print('x_val shape:', x_val.shape)\n",
        "print('y_val shape:', y_val.shape)"
      ],
      "execution_count": 4,
      "outputs": [
        {
          "output_type": "stream",
          "text": [
            "x_val shape: (1250, 32, 32, 3)\n",
            "y_val shape: (1250, 1)\n"
          ],
          "name": "stdout"
        }
      ]
    },
    {
      "cell_type": "code",
      "metadata": {
        "colab": {
          "base_uri": "https://localhost:8080/"
        },
        "id": "hYIzoNs4gdxE",
        "outputId": "1a2ebbce-bba1-4faf-cfcb-ac0d61dead56"
      },
      "source": [
        "x_test, __x, y_test, __y = train_test_split(x_test_, y_test_, train_size=1250, stratify=y_test_, random_state=0)\n",
        "print('x_test shape:', x_test.shape)\n",
        "print('y_test shape:', y_test.shape)"
      ],
      "execution_count": 5,
      "outputs": [
        {
          "output_type": "stream",
          "text": [
            "x_test shape: (1250, 32, 32, 3)\n",
            "y_test shape: (1250, 1)\n"
          ],
          "name": "stdout"
        }
      ]
    },
    {
      "cell_type": "code",
      "metadata": {
        "colab": {
          "base_uri": "https://localhost:8080/",
          "height": 283
        },
        "id": "GNW8pvtCgdxF",
        "outputId": "7337b603-ae2c-4945-a5b1-03ca015b576d"
      },
      "source": [
        "plt.imshow(x_train[5])\n",
        "plt.show()\n",
        "print('Label:', y_train[5][0])"
      ],
      "execution_count": 6,
      "outputs": [
        {
          "output_type": "display_data",
          "data": {
            "image/png": "[encoded data removed]",
            "text/plain": [
              "<Figure size 432x288 with 1 Axes>"
            ]
          },
          "metadata": {
            "tags": [],
            "needs_background": "light"
          }
        },
        {
          "output_type": "stream",
          "text": [
            "Label: 5\n"
          ],
          "name": "stdout"
        }
      ]
    },
    {
      "cell_type": "code",
      "metadata": {
        "colab": {
          "base_uri": "https://localhost:8080/"
        },
        "id": "rGzuzF8mgdxF",
        "outputId": "59dfbf9a-1cd8-4a1c-e1b8-723ccfe51bf4"
      },
      "source": [
        "num_classes = 10\n",
        "\n",
        "# Convert class vectors to binary class matrices.\n",
        "y_train = keras.utils.to_categorical(y_train, num_classes)\n",
        "y_val = keras.utils.to_categorical(y_val, num_classes)\n",
        "y_test = keras.utils.to_categorical(y_test, num_classes)\n",
        "\n",
        "print('y_train shape:', y_train.shape)\n",
        "print('y_val shape:', y_val.shape)\n",
        "print('y_test shape:', y_test.shape)\n",
        "\n",
        "print('y_train:', y_train)\n",
        "print('y_val:', y_val)\n",
        "print('y_test:', y_test)"
      ],
      "execution_count": 7,
      "outputs": [
        {
          "output_type": "stream",
          "text": [
            "y_train shape: (7500, 10)\n",
            "y_val shape: (1250, 10)\n",
            "y_test shape: (1250, 10)\n",
            "y_train: [[0. 0. 0. ... 0. 0. 0.]\n",
            " [0. 0. 0. ... 0. 0. 0.]\n",
            " [0. 0. 0. ... 0. 0. 0.]\n",
            " ...\n",
            " [0. 0. 0. ... 0. 0. 0.]\n",
            " [0. 0. 0. ... 0. 0. 0.]\n",
            " [0. 0. 0. ... 0. 0. 0.]]\n",
            "y_val: [[0. 0. 0. ... 0. 0. 0.]\n",
            " [0. 0. 0. ... 0. 1. 0.]\n",
            " [1. 0. 0. ... 0. 0. 0.]\n",
            " ...\n",
            " [1. 0. 0. ... 0. 0. 0.]\n",
            " [0. 0. 0. ... 0. 1. 0.]\n",
            " [0. 0. 0. ... 0. 0. 0.]]\n",
            "y_test: [[0. 0. 0. ... 0. 0. 0.]\n",
            " [0. 1. 0. ... 0. 0. 0.]\n",
            " [0. 0. 0. ... 0. 0. 1.]\n",
            " ...\n",
            " [0. 0. 0. ... 0. 0. 0.]\n",
            " [0. 0. 0. ... 0. 0. 1.]\n",
            " [0. 0. 0. ... 1. 0. 0.]]\n"
          ],
          "name": "stdout"
        }
      ]
    },
    {
      "cell_type": "code",
      "metadata": {
        "colab": {
          "base_uri": "https://localhost:8080/"
        },
        "id": "W_f_bg4RgdxG",
        "outputId": "e407b852-9257-4db4-9bdf-6ae379e093cc"
      },
      "source": [
        "model = Sequential()\n",
        "model.add(Conv2D(32, (3, 3), input_shape=(32, 32, 3))) \n",
        "model.add(Activation('relu'))\n",
        "model.add(MaxPooling2D(pool_size=(2, 2))) \n",
        "model.add(Dropout(0.25))\n",
        "\n",
        "model.add(Conv2D(64, (3, 3))) \n",
        "model.add(Activation('relu'))\n",
        "model.add(MaxPooling2D(pool_size=(2, 2))) \n",
        "model.add(Dropout(0.5))\n",
        "\n",
        "model.add(Conv2D(128, (3, 3))) \n",
        "model.add(Activation('relu'))\n",
        "#model.add(MaxPooling2D(pool_size=(2, 2))) \n",
        "model.add(Dropout(0.5))\n",
        "\n",
        "model.add(Conv2D(256, (3, 3))) \n",
        "model.add(Activation('relu'))\n",
        "#model.add(MaxPooling2D(pool_size=(2, 2))) \n",
        "#model.add(Dropout(0.5))\n",
        "\n",
        "\n",
        "model.add(Flatten())\n",
        "#Neural Network regime\n",
        "\n",
        "model.add(Dense(32))\n",
        "model.add(Activation('relu'))\n",
        "# model.add(Dropout(0.5))\n",
        "\n",
        "model.add(Dense(num_classes, activation='softmax'))\n",
        "\n",
        "model.summary()"
      ],
      "execution_count": 8,
      "outputs": [
        {
          "output_type": "stream",
          "text": [
            "Model: \"sequential\"\n",
            "_________________________________________________________________\n",
            "Layer (type)                 Output Shape              Param #   \n",
            "=================================================================\n",
            "conv2d (Conv2D)              (None, 30, 30, 32)        896       \n",
            "_________________________________________________________________\n",
            "activation (Activation)      (None, 30, 30, 32)        0         \n",
            "_________________________________________________________________\n",
            "max_pooling2d (MaxPooling2D) (None, 15, 15, 32)        0         \n",
            "_________________________________________________________________\n",
            "dropout (Dropout)            (None, 15, 15, 32)        0         \n",
            "_________________________________________________________________\n",
            "conv2d_1 (Conv2D)            (None, 13, 13, 64)        18496     \n",
            "_________________________________________________________________\n",
            "activation_1 (Activation)    (None, 13, 13, 64)        0         \n",
            "_________________________________________________________________\n",
            "max_pooling2d_1 (MaxPooling2 (None, 6, 6, 64)          0         \n",
            "_________________________________________________________________\n",
            "dropout_1 (Dropout)          (None, 6, 6, 64)          0         \n",
            "_________________________________________________________________\n",
            "conv2d_2 (Conv2D)            (None, 4, 4, 128)         73856     \n",
            "_________________________________________________________________\n",
            "activation_2 (Activation)    (None, 4, 4, 128)         0         \n",
            "_________________________________________________________________\n",
            "dropout_2 (Dropout)          (None, 4, 4, 128)         0         \n",
            "_________________________________________________________________\n",
            "conv2d_3 (Conv2D)            (None, 2, 2, 256)         295168    \n",
            "_________________________________________________________________\n",
            "activation_3 (Activation)    (None, 2, 2, 256)         0         \n",
            "_________________________________________________________________\n",
            "flatten (Flatten)            (None, 1024)              0         \n",
            "_________________________________________________________________\n",
            "dense (Dense)                (None, 32)                32800     \n",
            "_________________________________________________________________\n",
            "activation_4 (Activation)    (None, 32)                0         \n",
            "_________________________________________________________________\n",
            "dense_1 (Dense)              (None, 10)                330       \n",
            "=================================================================\n",
            "Total params: 421,546\n",
            "Trainable params: 421,546\n",
            "Non-trainable params: 0\n",
            "_________________________________________________________________\n"
          ],
          "name": "stdout"
        }
      ]
    },
    {
      "cell_type": "code",
      "metadata": {
        "colab": {
          "base_uri": "https://localhost:8080/"
        },
        "id": "p5RkMlFIgdxH",
        "outputId": "46e472ca-df90-41a1-bdd9-905409fc0bb9"
      },
      "source": [
        "# initiate Adam optimizer\n",
        "opt = keras.optimizers.Adam(lr=0.005)\n",
        "\n",
        "# Let's train the model using Adam\n",
        "model.compile(loss='categorical_crossentropy',\n",
        "              optimizer=opt,\n",
        "              metrics=['accuracy'])\n",
        "\n",
        "x_train = x_train.astype('float32')\n",
        "x_val = x_val.astype('float32')\n",
        "x_test = x_test.astype('float32')\n",
        "x_train /= 255.0\n",
        "x_val /= 255.0\n",
        "x_test /= 255.0\n",
        "\n",
        "if not os.path.exists('saved_cnn_models'):\n",
        "    os.mkdir('saved_cnn_models')\n",
        "\n",
        "num_epochs = 50\n",
        "filepath = 'saved_cnn_models/model-{epoch:05d}.h5'\n",
        "checkpoint = ModelCheckpoint(filepath, monitor='val_loss', verbose=1, save_best_only=False, save_weights_only=False, mode='auto', period=1)\n",
        "callbacks_list = [checkpoint]"
      ],
      "execution_count": 9,
      "outputs": [
        {
          "output_type": "stream",
          "text": [
            "WARNING:tensorflow:`period` argument is deprecated. Please use `save_freq` to specify the frequency in number of batches seen.\n"
          ],
          "name": "stdout"
        }
      ]
    },
    {
      "cell_type": "code",
      "metadata": {
        "colab": {
          "base_uri": "https://localhost:8080/"
        },
        "id": "91k-4c8cgdxI",
        "outputId": "8a29765b-10bb-40b4-9f49-caebc78169b2"
      },
      "source": [
        "history = model.fit(x=x_train, y=y_train, batch_size=250, epochs=num_epochs, verbose=1, callbacks=callbacks_list,\n",
        "              validation_data=(x_val, y_val))"
      ],
      "execution_count": 10,
      "outputs": [
        {
          "output_type": "stream",
          "text": [
            "Epoch 1/50\n",
            "30/30 [==============================] - 4s 26ms/step - loss: 2.3103 - accuracy: 0.0940 - val_loss: 2.2458 - val_accuracy: 0.1496\n",
            "\n",
            "Epoch 00001: saving model to saved_cnn_models/model-00001.h5\n",
            "Epoch 2/50\n",
            "30/30 [==============================] - 0s 12ms/step - loss: 2.2283 - accuracy: 0.1490 - val_loss: 2.0566 - val_accuracy: 0.1880\n",
            "\n",
            "Epoch 00002: saving model to saved_cnn_models/model-00002.h5\n",
            "Epoch 3/50\n",
            "30/30 [==============================] - 0s 13ms/step - loss: 2.0293 - accuracy: 0.1990 - val_loss: 1.9129 - val_accuracy: 0.2544\n",
            "\n",
            "Epoch 00003: saving model to saved_cnn_models/model-00003.h5\n",
            "Epoch 4/50\n",
            "30/30 [==============================] - 0s 12ms/step - loss: 1.9252 - accuracy: 0.2475 - val_loss: 1.7903 - val_accuracy: 0.2936\n",
            "\n",
            "Epoch 00004: saving model to saved_cnn_models/model-00004.h5\n",
            "Epoch 5/50\n",
            "30/30 [==============================] - 0s 12ms/step - loss: 1.8795 - accuracy: 0.2689 - val_loss: 1.8689 - val_accuracy: 0.2552\n",
            "\n",
            "Epoch 00005: saving model to saved_cnn_models/model-00005.h5\n",
            "Epoch 6/50\n",
            "30/30 [==============================] - 0s 12ms/step - loss: 1.8349 - accuracy: 0.2954 - val_loss: 1.7409 - val_accuracy: 0.3304\n",
            "\n",
            "Epoch 00006: saving model to saved_cnn_models/model-00006.h5\n",
            "Epoch 7/50\n",
            "30/30 [==============================] - 0s 12ms/step - loss: 1.7485 - accuracy: 0.3349 - val_loss: 1.6799 - val_accuracy: 0.3416\n",
            "\n",
            "Epoch 00007: saving model to saved_cnn_models/model-00007.h5\n",
            "Epoch 8/50\n",
            "30/30 [==============================] - 0s 12ms/step - loss: 1.6842 - accuracy: 0.3582 - val_loss: 1.6587 - val_accuracy: 0.3648\n",
            "\n",
            "Epoch 00008: saving model to saved_cnn_models/model-00008.h5\n",
            "Epoch 9/50\n",
            "30/30 [==============================] - 0s 12ms/step - loss: 1.6657 - accuracy: 0.3685 - val_loss: 1.5920 - val_accuracy: 0.4248\n",
            "\n",
            "Epoch 00009: saving model to saved_cnn_models/model-00009.h5\n",
            "Epoch 10/50\n",
            "30/30 [==============================] - 0s 12ms/step - loss: 1.5734 - accuracy: 0.4044 - val_loss: 1.5899 - val_accuracy: 0.4008\n",
            "\n",
            "Epoch 00010: saving model to saved_cnn_models/model-00010.h5\n",
            "Epoch 11/50\n",
            "30/30 [==============================] - 0s 12ms/step - loss: 1.5637 - accuracy: 0.4164 - val_loss: 1.5274 - val_accuracy: 0.4320\n",
            "\n",
            "Epoch 00011: saving model to saved_cnn_models/model-00011.h5\n",
            "Epoch 12/50\n",
            "30/30 [==============================] - 0s 12ms/step - loss: 1.5162 - accuracy: 0.4396 - val_loss: 1.5174 - val_accuracy: 0.4368\n",
            "\n",
            "Epoch 00012: saving model to saved_cnn_models/model-00012.h5\n",
            "Epoch 13/50\n",
            "30/30 [==============================] - 0s 12ms/step - loss: 1.5167 - accuracy: 0.4430 - val_loss: 1.5332 - val_accuracy: 0.4400\n",
            "\n",
            "Epoch 00013: saving model to saved_cnn_models/model-00013.h5\n",
            "Epoch 14/50\n",
            "30/30 [==============================] - 0s 12ms/step - loss: 1.5321 - accuracy: 0.4318 - val_loss: 1.4562 - val_accuracy: 0.4672\n",
            "\n",
            "Epoch 00014: saving model to saved_cnn_models/model-00014.h5\n",
            "Epoch 15/50\n",
            "30/30 [==============================] - 0s 12ms/step - loss: 1.4822 - accuracy: 0.4514 - val_loss: 1.4553 - val_accuracy: 0.4744\n",
            "\n",
            "Epoch 00015: saving model to saved_cnn_models/model-00015.h5\n",
            "Epoch 16/50\n",
            "30/30 [==============================] - 0s 12ms/step - loss: 1.4828 - accuracy: 0.4550 - val_loss: 1.4528 - val_accuracy: 0.4752\n",
            "\n",
            "Epoch 00016: saving model to saved_cnn_models/model-00016.h5\n",
            "Epoch 17/50\n",
            "30/30 [==============================] - 0s 12ms/step - loss: 1.4675 - accuracy: 0.4547 - val_loss: 1.4468 - val_accuracy: 0.4704\n",
            "\n",
            "Epoch 00017: saving model to saved_cnn_models/model-00017.h5\n",
            "Epoch 18/50\n",
            "30/30 [==============================] - 0s 12ms/step - loss: 1.4372 - accuracy: 0.4727 - val_loss: 1.4352 - val_accuracy: 0.4696\n",
            "\n",
            "Epoch 00018: saving model to saved_cnn_models/model-00018.h5\n",
            "Epoch 19/50\n",
            "30/30 [==============================] - 0s 12ms/step - loss: 1.4409 - accuracy: 0.4739 - val_loss: 1.4334 - val_accuracy: 0.4728\n",
            "\n",
            "Epoch 00019: saving model to saved_cnn_models/model-00019.h5\n",
            "Epoch 20/50\n",
            "30/30 [==============================] - 0s 12ms/step - loss: 1.4112 - accuracy: 0.4788 - val_loss: 1.4328 - val_accuracy: 0.4752\n",
            "\n",
            "Epoch 00020: saving model to saved_cnn_models/model-00020.h5\n",
            "Epoch 21/50\n",
            "30/30 [==============================] - 0s 12ms/step - loss: 1.4394 - accuracy: 0.4610 - val_loss: 1.4593 - val_accuracy: 0.4696\n",
            "\n",
            "Epoch 00021: saving model to saved_cnn_models/model-00021.h5\n",
            "Epoch 22/50\n",
            "30/30 [==============================] - 0s 13ms/step - loss: 1.4075 - accuracy: 0.4935 - val_loss: 1.4409 - val_accuracy: 0.4760\n",
            "\n",
            "Epoch 00022: saving model to saved_cnn_models/model-00022.h5\n",
            "Epoch 23/50\n",
            "30/30 [==============================] - 0s 12ms/step - loss: 1.4078 - accuracy: 0.4824 - val_loss: 1.4053 - val_accuracy: 0.4664\n",
            "\n",
            "Epoch 00023: saving model to saved_cnn_models/model-00023.h5\n",
            "Epoch 24/50\n",
            "30/30 [==============================] - 0s 12ms/step - loss: 1.4214 - accuracy: 0.4713 - val_loss: 1.3720 - val_accuracy: 0.4920\n",
            "\n",
            "Epoch 00024: saving model to saved_cnn_models/model-00024.h5\n",
            "Epoch 25/50\n",
            "30/30 [==============================] - 0s 12ms/step - loss: 1.3688 - accuracy: 0.4903 - val_loss: 1.4295 - val_accuracy: 0.4848\n",
            "\n",
            "Epoch 00025: saving model to saved_cnn_models/model-00025.h5\n",
            "Epoch 26/50\n",
            "30/30 [==============================] - 0s 13ms/step - loss: 1.3723 - accuracy: 0.4842 - val_loss: 1.3862 - val_accuracy: 0.5016\n",
            "\n",
            "Epoch 00026: saving model to saved_cnn_models/model-00026.h5\n",
            "Epoch 27/50\n",
            "30/30 [==============================] - 0s 12ms/step - loss: 1.3737 - accuracy: 0.5055 - val_loss: 1.3595 - val_accuracy: 0.5176\n",
            "\n",
            "Epoch 00027: saving model to saved_cnn_models/model-00027.h5\n",
            "Epoch 28/50\n",
            "30/30 [==============================] - 0s 12ms/step - loss: 1.3348 - accuracy: 0.5094 - val_loss: 1.3652 - val_accuracy: 0.4952\n",
            "\n",
            "Epoch 00028: saving model to saved_cnn_models/model-00028.h5\n",
            "Epoch 29/50\n",
            "30/30 [==============================] - 0s 12ms/step - loss: 1.3290 - accuracy: 0.5046 - val_loss: 1.5109 - val_accuracy: 0.4528\n",
            "\n",
            "Epoch 00029: saving model to saved_cnn_models/model-00029.h5\n",
            "Epoch 30/50\n",
            "30/30 [==============================] - 0s 12ms/step - loss: 1.3908 - accuracy: 0.4933 - val_loss: 1.3999 - val_accuracy: 0.4816\n",
            "\n",
            "Epoch 00030: saving model to saved_cnn_models/model-00030.h5\n",
            "Epoch 31/50\n",
            "30/30 [==============================] - 0s 12ms/step - loss: 1.3129 - accuracy: 0.5173 - val_loss: 1.4389 - val_accuracy: 0.4736\n",
            "\n",
            "Epoch 00031: saving model to saved_cnn_models/model-00031.h5\n",
            "Epoch 32/50\n",
            "30/30 [==============================] - 0s 12ms/step - loss: 1.3062 - accuracy: 0.5177 - val_loss: 1.3668 - val_accuracy: 0.5048\n",
            "\n",
            "Epoch 00032: saving model to saved_cnn_models/model-00032.h5\n",
            "Epoch 33/50\n",
            "30/30 [==============================] - 0s 12ms/step - loss: 1.3185 - accuracy: 0.5110 - val_loss: 1.3924 - val_accuracy: 0.4888\n",
            "\n",
            "Epoch 00033: saving model to saved_cnn_models/model-00033.h5\n",
            "Epoch 34/50\n",
            "30/30 [==============================] - 0s 13ms/step - loss: 1.2661 - accuracy: 0.5328 - val_loss: 1.4062 - val_accuracy: 0.4976\n",
            "\n",
            "Epoch 00034: saving model to saved_cnn_models/model-00034.h5\n",
            "Epoch 35/50\n",
            "30/30 [==============================] - 0s 13ms/step - loss: 1.3072 - accuracy: 0.5205 - val_loss: 1.3323 - val_accuracy: 0.5248\n",
            "\n",
            "Epoch 00035: saving model to saved_cnn_models/model-00035.h5\n",
            "Epoch 36/50\n",
            "30/30 [==============================] - 0s 13ms/step - loss: 1.2920 - accuracy: 0.5286 - val_loss: 1.4323 - val_accuracy: 0.4792\n",
            "\n",
            "Epoch 00036: saving model to saved_cnn_models/model-00036.h5\n",
            "Epoch 37/50\n",
            "30/30 [==============================] - 0s 13ms/step - loss: 1.2889 - accuracy: 0.5303 - val_loss: 1.3564 - val_accuracy: 0.5080\n",
            "\n",
            "Epoch 00037: saving model to saved_cnn_models/model-00037.h5\n",
            "Epoch 38/50\n",
            "30/30 [==============================] - 0s 12ms/step - loss: 1.2799 - accuracy: 0.5317 - val_loss: 1.3650 - val_accuracy: 0.5152\n",
            "\n",
            "Epoch 00038: saving model to saved_cnn_models/model-00038.h5\n",
            "Epoch 39/50\n",
            "30/30 [==============================] - 0s 12ms/step - loss: 1.2678 - accuracy: 0.5336 - val_loss: 1.3517 - val_accuracy: 0.5088\n",
            "\n",
            "Epoch 00039: saving model to saved_cnn_models/model-00039.h5\n",
            "Epoch 40/50\n",
            "30/30 [==============================] - 0s 12ms/step - loss: 1.3182 - accuracy: 0.5176 - val_loss: 1.3959 - val_accuracy: 0.5008\n",
            "\n",
            "Epoch 00040: saving model to saved_cnn_models/model-00040.h5\n",
            "Epoch 41/50\n",
            "30/30 [==============================] - 0s 12ms/step - loss: 1.2708 - accuracy: 0.5340 - val_loss: 1.3408 - val_accuracy: 0.5072\n",
            "\n",
            "Epoch 00041: saving model to saved_cnn_models/model-00041.h5\n",
            "Epoch 42/50\n",
            "30/30 [==============================] - 0s 12ms/step - loss: 1.2438 - accuracy: 0.5474 - val_loss: 1.3760 - val_accuracy: 0.5056\n",
            "\n",
            "Epoch 00042: saving model to saved_cnn_models/model-00042.h5\n",
            "Epoch 43/50\n",
            "30/30 [==============================] - 0s 12ms/step - loss: 1.2436 - accuracy: 0.5363 - val_loss: 1.4550 - val_accuracy: 0.4728\n",
            "\n",
            "Epoch 00043: saving model to saved_cnn_models/model-00043.h5\n",
            "Epoch 44/50\n",
            "30/30 [==============================] - 0s 12ms/step - loss: 1.2765 - accuracy: 0.5196 - val_loss: 1.3663 - val_accuracy: 0.5088\n",
            "\n",
            "Epoch 00044: saving model to saved_cnn_models/model-00044.h5\n",
            "Epoch 45/50\n",
            "30/30 [==============================] - 0s 12ms/step - loss: 1.2455 - accuracy: 0.5434 - val_loss: 1.3244 - val_accuracy: 0.5216\n",
            "\n",
            "Epoch 00045: saving model to saved_cnn_models/model-00045.h5\n",
            "Epoch 46/50\n",
            "30/30 [==============================] - 0s 12ms/step - loss: 1.2277 - accuracy: 0.5521 - val_loss: 1.3387 - val_accuracy: 0.5312\n",
            "\n",
            "Epoch 00046: saving model to saved_cnn_models/model-00046.h5\n",
            "Epoch 47/50\n",
            "30/30 [==============================] - 0s 13ms/step - loss: 1.2249 - accuracy: 0.5471 - val_loss: 1.3502 - val_accuracy: 0.5208\n",
            "\n",
            "Epoch 00047: saving model to saved_cnn_models/model-00047.h5\n",
            "Epoch 48/50\n",
            "30/30 [==============================] - 0s 13ms/step - loss: 1.2467 - accuracy: 0.5457 - val_loss: 1.3167 - val_accuracy: 0.5304\n",
            "\n",
            "Epoch 00048: saving model to saved_cnn_models/model-00048.h5\n",
            "Epoch 49/50\n",
            "30/30 [==============================] - 0s 12ms/step - loss: 1.2424 - accuracy: 0.5477 - val_loss: 1.3175 - val_accuracy: 0.5312\n",
            "\n",
            "Epoch 00049: saving model to saved_cnn_models/model-00049.h5\n",
            "Epoch 50/50\n",
            "30/30 [==============================] - 0s 12ms/step - loss: 1.2362 - accuracy: 0.5428 - val_loss: 1.3451 - val_accuracy: 0.5136\n",
            "\n",
            "Epoch 00050: saving model to saved_cnn_models/model-00050.h5\n"
          ],
          "name": "stdout"
        }
      ]
    },
    {
      "cell_type": "code",
      "metadata": {
        "colab": {
          "base_uri": "https://localhost:8080/"
        },
        "id": "LN2mFYq7gdxJ",
        "outputId": "f619b971-1293-4105-dba5-b00c76b310fe"
      },
      "source": [
        "history.history"
      ],
      "execution_count": 11,
      "outputs": [
        {
          "output_type": "execute_result",
          "data": {
            "text/plain": [
              "{'accuracy': [0.10493333637714386,\n",
              "  0.16279999911785126,\n",
              "  0.2133333384990692,\n",
              "  0.25386667251586914,\n",
              "  0.26506665349006653,\n",
              "  0.2955999970436096,\n",
              "  0.34013333916664124,\n",
              "  0.3657333254814148,\n",
              "  0.37439998984336853,\n",
              "  0.4073333442211151,\n",
              "  0.41413334012031555,\n",
              "  0.4326666593551636,\n",
              "  0.43479999899864197,\n",
              "  0.4357333481311798,\n",
              "  0.4440000057220459,\n",
              "  0.4544000029563904,\n",
              "  0.4582666754722595,\n",
              "  0.4681333303451538,\n",
              "  0.4812000095844269,\n",
              "  0.4689333438873291,\n",
              "  0.4577333331108093,\n",
              "  0.4885333478450775,\n",
              "  0.4817333221435547,\n",
              "  0.48053333163261414,\n",
              "  0.4903999865055084,\n",
              "  0.4844000041484833,\n",
              "  0.5040000081062317,\n",
              "  0.5109333395957947,\n",
              "  0.503600001335144,\n",
              "  0.49106666445732117,\n",
              "  0.5058666467666626,\n",
              "  0.5141333341598511,\n",
              "  0.5170666575431824,\n",
              "  0.5235999822616577,\n",
              "  0.5162666440010071,\n",
              "  0.5156000256538391,\n",
              "  0.5289333462715149,\n",
              "  0.5305333137512207,\n",
              "  0.5333333611488342,\n",
              "  0.5282666683197021,\n",
              "  0.5322666764259338,\n",
              "  0.5413333177566528,\n",
              "  0.5360000133514404,\n",
              "  0.5234666466712952,\n",
              "  0.5401333570480347,\n",
              "  0.5527999997138977,\n",
              "  0.5424000024795532,\n",
              "  0.5481333136558533,\n",
              "  0.5462666749954224,\n",
              "  0.5406666398048401],\n",
              " 'loss': [2.296273946762085,\n",
              "  2.1862258911132812,\n",
              "  1.9991281032562256,\n",
              "  1.9045535326004028,\n",
              "  1.8888663053512573,\n",
              "  1.827158808708191,\n",
              "  1.740677833557129,\n",
              "  1.6913330554962158,\n",
              "  1.64537513256073,\n",
              "  1.5807222127914429,\n",
              "  1.5639982223510742,\n",
              "  1.5346174240112305,\n",
              "  1.539960503578186,\n",
              "  1.525604009628296,\n",
              "  1.5070867538452148,\n",
              "  1.4739371538162231,\n",
              "  1.476125955581665,\n",
              "  1.439965009689331,\n",
              "  1.415103554725647,\n",
              "  1.4250575304031372,\n",
              "  1.4459247589111328,\n",
              "  1.4067033529281616,\n",
              "  1.410560131072998,\n",
              "  1.4007660150527954,\n",
              "  1.3779433965682983,\n",
              "  1.3812646865844727,\n",
              "  1.363373875617981,\n",
              "  1.34115731716156,\n",
              "  1.337019443511963,\n",
              "  1.3822156190872192,\n",
              "  1.3331466913223267,\n",
              "  1.3110147714614868,\n",
              "  1.3118047714233398,\n",
              "  1.2912784814834595,\n",
              "  1.3159732818603516,\n",
              "  1.3160133361816406,\n",
              "  1.2969303131103516,\n",
              "  1.2889935970306396,\n",
              "  1.2651373147964478,\n",
              "  1.2844277620315552,\n",
              "  1.2709556818008423,\n",
              "  1.2498382329940796,\n",
              "  1.2626361846923828,\n",
              "  1.2722582817077637,\n",
              "  1.2439851760864258,\n",
              "  1.2397600412368774,\n",
              "  1.2383780479431152,\n",
              "  1.2304236888885498,\n",
              "  1.236189603805542,\n",
              "  1.2338600158691406],\n",
              " 'val_accuracy': [0.14959999918937683,\n",
              "  0.18799999356269836,\n",
              "  0.25440001487731934,\n",
              "  0.2935999929904938,\n",
              "  0.25519999861717224,\n",
              "  0.3303999900817871,\n",
              "  0.3416000008583069,\n",
              "  0.36480000615119934,\n",
              "  0.42480000853538513,\n",
              "  0.4007999897003174,\n",
              "  0.4320000112056732,\n",
              "  0.4368000030517578,\n",
              "  0.4399999976158142,\n",
              "  0.46720001101493835,\n",
              "  0.47440001368522644,\n",
              "  0.47519999742507935,\n",
              "  0.47040000557899475,\n",
              "  0.46959999203681946,\n",
              "  0.47279998660087585,\n",
              "  0.47519999742507935,\n",
              "  0.46959999203681946,\n",
              "  0.47600001096725464,\n",
              "  0.46639999747276306,\n",
              "  0.492000013589859,\n",
              "  0.4848000109195709,\n",
              "  0.5016000270843506,\n",
              "  0.5175999999046326,\n",
              "  0.4952000081539154,\n",
              "  0.4528000056743622,\n",
              "  0.48159998655319214,\n",
              "  0.47360000014305115,\n",
              "  0.504800021648407,\n",
              "  0.4887999892234802,\n",
              "  0.4975999891757965,\n",
              "  0.5248000025749207,\n",
              "  0.47920000553131104,\n",
              "  0.5080000162124634,\n",
              "  0.5152000188827515,\n",
              "  0.5088000297546387,\n",
              "  0.5008000135421753,\n",
              "  0.5072000026702881,\n",
              "  0.5055999755859375,\n",
              "  0.47279998660087585,\n",
              "  0.5088000297546387,\n",
              "  0.5216000080108643,\n",
              "  0.5311999917030334,\n",
              "  0.520799994468689,\n",
              "  0.5303999781608582,\n",
              "  0.5311999917030334,\n",
              "  0.5135999917984009],\n",
              " 'val_loss': [2.245795488357544,\n",
              "  2.0566277503967285,\n",
              "  1.9129341840744019,\n",
              "  1.7903343439102173,\n",
              "  1.868870496749878,\n",
              "  1.7408976554870605,\n",
              "  1.6798820495605469,\n",
              "  1.658724069595337,\n",
              "  1.591964602470398,\n",
              "  1.58992338180542,\n",
              "  1.5274279117584229,\n",
              "  1.5173752307891846,\n",
              "  1.5331636667251587,\n",
              "  1.456180214881897,\n",
              "  1.4552874565124512,\n",
              "  1.4528498649597168,\n",
              "  1.4468072652816772,\n",
              "  1.4352173805236816,\n",
              "  1.433404564857483,\n",
              "  1.432776927947998,\n",
              "  1.4593207836151123,\n",
              "  1.440862774848938,\n",
              "  1.405279517173767,\n",
              "  1.3720134496688843,\n",
              "  1.4295051097869873,\n",
              "  1.3861631155014038,\n",
              "  1.3594697713851929,\n",
              "  1.3651893138885498,\n",
              "  1.5109401941299438,\n",
              "  1.3998793363571167,\n",
              "  1.4389182329177856,\n",
              "  1.3668055534362793,\n",
              "  1.3923662900924683,\n",
              "  1.4062252044677734,\n",
              "  1.3323007822036743,\n",
              "  1.4323129653930664,\n",
              "  1.3564013242721558,\n",
              "  1.3650245666503906,\n",
              "  1.3516926765441895,\n",
              "  1.3959089517593384,\n",
              "  1.340806484222412,\n",
              "  1.3760297298431396,\n",
              "  1.4549928903579712,\n",
              "  1.3662666082382202,\n",
              "  1.324368953704834,\n",
              "  1.3386915922164917,\n",
              "  1.3502099514007568,\n",
              "  1.3167028427124023,\n",
              "  1.3174631595611572,\n",
              "  1.3451457023620605]}"
            ]
          },
          "metadata": {
            "tags": []
          },
          "execution_count": 11
        }
      ]
    },
    {
      "cell_type": "code",
      "metadata": {
        "colab": {
          "base_uri": "https://localhost:8080/",
          "height": 265
        },
        "id": "z6Matn2ygdxJ",
        "outputId": "29d9b5a8-3a3f-4785-a307-e644ca090529"
      },
      "source": [
        "plt.plot(range(num_epochs-1), history.history['loss'][1:], label='train_loss')\n",
        "plt.plot(range(num_epochs-1), history.history['val_loss'][:-1], label='val_loss')\n",
        "plt.legend()\n",
        "plt.grid()\n",
        "plt.show()"
      ],
      "execution_count": 12,
      "outputs": [
        {
          "output_type": "display_data",
          "data": {
            "image/png": "[encoded data removed]",
            "text/plain": [
              "<Figure size 432x288 with 1 Axes>"
            ]
          },
          "metadata": {
            "tags": [],
            "needs_background": "light"
          }
        }
      ]
    },
    {
      "cell_type": "code",
      "metadata": {
        "colab": {
          "base_uri": "https://localhost:8080/",
          "height": 265
        },
        "id": "zUbPRbTBgdxK",
        "outputId": "3842a42d-61ab-4f34-d2e2-d6d89d12e52b"
      },
      "source": [
        "plt.plot(range(num_epochs-1), history.history['accuracy'][1:], label='train_acc')\n",
        "plt.plot(range(num_epochs-1), history.history['val_accuracy'][:-1], label='val_acc')\n",
        "plt.legend()\n",
        "plt.grid()\n",
        "plt.show()"
      ],
      "execution_count": 13,
      "outputs": [
        {
          "output_type": "display_data",
          "data": {
            "image/png": "[encoded data removed]",
            "text/plain": [
              "<Figure size 432x288 with 1 Axes>"
            ]
          },
          "metadata": {
            "tags": [],
            "needs_background": "light"
          }
        }
      ]
    },
    {
      "cell_type": "code",
      "metadata": {
        "colab": {
          "base_uri": "https://localhost:8080/"
        },
        "id": "-i09hA60gdxK",
        "outputId": "f179ab6c-6ccd-4c08-9cb8-fe66342403b3"
      },
      "source": [
        "print('Minimum Validation Loss:', np.min(history.history['val_loss']))\n",
        "print('Best epoch corresponding to Minimum Validation Loss:', np.argmin(history.history['val_loss'])+1)"
      ],
      "execution_count": 14,
      "outputs": [
        {
          "output_type": "stream",
          "text": [
            "Minimum Validation Loss: 1.3167028427124023\n",
            "Best epoch corresponding to Minimum Validation Loss: 48\n"
          ],
          "name": "stdout"
        }
      ]
    },
    {
      "cell_type": "code",
      "metadata": {
        "id": "pcKXb3A8gdxL"
      },
      "source": [
        "model_best = load_model('saved_cnn_models/model-00048.h5')"
      ],
      "execution_count": 19,
      "outputs": []
    },
    {
      "cell_type": "code",
      "metadata": {
        "colab": {
          "base_uri": "https://localhost:8080/"
        },
        "id": "1mVCNFzPgdxL",
        "outputId": "57e40245-d0c8-4c2b-fec1-cfe4220424b9"
      },
      "source": [
        "scores = model_best.evaluate(x_test, y_test, verbose=1)"
      ],
      "execution_count": 20,
      "outputs": [
        {
          "output_type": "stream",
          "text": [
            "40/40 [==============================] - 0s 3ms/step - loss: 1.3383 - accuracy: 0.5152\n"
          ],
          "name": "stdout"
        }
      ]
    },
    {
      "cell_type": "code",
      "metadata": {
        "colab": {
          "base_uri": "https://localhost:8080/"
        },
        "id": "gZqVxNqegdxL",
        "outputId": "61ff7526-c30f-4621-a6fa-52cc6c4785e8"
      },
      "source": [
        "scores"
      ],
      "execution_count": 21,
      "outputs": [
        {
          "output_type": "execute_result",
          "data": {
            "text/plain": [
              "[1.3382636308670044, 0.5152000188827515]"
            ]
          },
          "metadata": {
            "tags": []
          },
          "execution_count": 21
        }
      ]
    },
    {
      "cell_type": "code",
      "metadata": {
        "colab": {
          "base_uri": "https://localhost:8080/"
        },
        "id": "GO0LwzPkgdxM",
        "outputId": "1f392f35-0b5e-4326-af0d-89254fee2c8c"
      },
      "source": [
        "print('Test loss:', scores[0])\n",
        "print('Test accuracy:', scores[1])"
      ],
      "execution_count": 22,
      "outputs": [
        {
          "output_type": "stream",
          "text": [
            "Test loss: 1.3382636308670044\n",
            "Test accuracy: 0.5152000188827515\n"
          ],
          "name": "stdout"
        }
      ]
    }
  ]
}